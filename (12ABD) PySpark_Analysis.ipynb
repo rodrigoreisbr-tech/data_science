{
  "nbformat": 4,
  "nbformat_minor": 0,
  "metadata": {
    "colab": {
      "name": "(12ABD) PySpark_Analysis",
      "provenance": [],
      "collapsed_sections": [],
      "toc_visible": true,
      "include_colab_link": true
    },
    "kernelspec": {
      "name": "python3",
      "display_name": "Python 3"
    }
  },
  "cells": [
    {
      "cell_type": "markdown",
      "metadata": {
        "id": "view-in-github",
        "colab_type": "text"
      },
      "source": [
        "<a href=\"https://colab.research.google.com/github/rodrigoreisbr-tech/data_science/blob/master/(12ABD)%20PySpark_Analysis.ipynb\" target=\"_parent\"><img src=\"https://colab.research.google.com/assets/colab-badge.svg\" alt=\"Open In Colab\"/></a>"
      ]
    },
    {
      "cell_type": "markdown",
      "metadata": {
        "id": "sq8U3BtmhtRx"
      },
      "source": [
        "\n",
        "# **Running Pyspark in Colab**\n",
        "\n",
        "To run spark in Colab, we need to first install all the dependencies in Colab environment i.e. Apache Spark 3.1.1 with hadoop 3.2, Java 8 and Findspark to locate the spark in the system. The tools installation can be carried out inside the Jupyter Notebook of the Colab.\n",
        "\n",
        "Follow the steps to install the dependencies:"
      ]
    },
    {
      "cell_type": "code",
      "metadata": {
        "id": "lh5NCoc8fsSO"
      },
      "source": [
        "!apt-get install openjdk-8-jdk-headless -qq > /dev/null\n",
        "!wget -q https://downloads.apache.org/spark/spark-3.1.1/spark-3.1.1-bin-hadoop3.2.tgz\n",
        "\n",
        "\n",
        "!tar xf spark-3.1.1-bin-hadoop3.2.tgz\n",
        "!pip install -q findspark"
      ],
      "execution_count": null,
      "outputs": []
    },
    {
      "cell_type": "markdown",
      "metadata": {
        "id": "ILheUROOhprv"
      },
      "source": [
        "Now that you installed Spark and Java in Colab, it is time \n",
        "\n",
        "to set the environment path which enables you to run Pyspark in your Colab environment. Set the location of Java and Spark by running the following code:"
      ]
    },
    {
      "cell_type": "code",
      "metadata": {
        "id": "v1b8k_OVf2QF"
      },
      "source": [
        "import os\n",
        "os.environ[\"JAVA_HOME\"] = \"/usr/lib/jvm/java-8-openjdk-amd64\"\n",
        "os.environ[\"SPARK_HOME\"] = \"/content/spark-3.1.1-bin-hadoop3.2\""
      ],
      "execution_count": 2,
      "outputs": []
    },
    {
      "cell_type": "markdown",
      "metadata": {
        "id": "KwrqMk3HiMiE"
      },
      "source": [
        "Run a local spark session to test your installation:"
      ]
    },
    {
      "cell_type": "code",
      "metadata": {
        "id": "9_Uz1NL4gHFx"
      },
      "source": [
        "import findspark\n",
        "\n",
        "findspark.init()\n",
        "from pyspark.sql import SparkSession\n",
        "spark = SparkSession.builder.master(\"local[*]\").getOrCreate()"
      ],
      "execution_count": null,
      "outputs": []
    },
    {
      "cell_type": "markdown",
      "metadata": {
        "id": "JEb4HTRwiaJx"
      },
      "source": [
        "Congrats! Your Colab is ready to run Pyspark."
      ]
    },
    {
      "cell_type": "code",
      "metadata": {
        "colab": {
          "base_uri": "https://localhost:8080/",
          "height": 216
        },
        "id": "CsQUGPkwBJlr",
        "outputId": "04089052-a44f-4e79-b291-6d30de98647e"
      },
      "source": [
        "spark"
      ],
      "execution_count": null,
      "outputs": [
        {
          "output_type": "execute_result",
          "data": {
            "text/html": [
              "\n",
              "            <div>\n",
              "                <p><b>SparkSession - in-memory</b></p>\n",
              "                \n",
              "        <div>\n",
              "            <p><b>SparkContext</b></p>\n",
              "\n",
              "            <p><a href=\"http://b40025ec05bb:4040\">Spark UI</a></p>\n",
              "\n",
              "            <dl>\n",
              "              <dt>Version</dt>\n",
              "                <dd><code>v3.1.1</code></dd>\n",
              "              <dt>Master</dt>\n",
              "                <dd><code>local[*]</code></dd>\n",
              "              <dt>AppName</dt>\n",
              "                <dd><code>pyspark-shell</code></dd>\n",
              "            </dl>\n",
              "        </div>\n",
              "        \n",
              "            </div>\n",
              "        "
            ],
            "text/plain": [
              "<pyspark.sql.session.SparkSession at 0x7fe6abdc7190>"
            ]
          },
          "metadata": {
            "tags": []
          },
          "execution_count": 6
        }
      ]
    },
    {
      "cell_type": "code",
      "metadata": {
        "id": "PAISFqHXf7dt"
      },
      "source": [
        "from google.colab import files\n",
        "files.upload()"
      ],
      "execution_count": null,
      "outputs": []
    },
    {
      "cell_type": "markdown",
      "metadata": {
        "id": "bYORz3Q9wTSW"
      },
      "source": [
        "# Análise do arquivo (results.csv)\n",
        "\n",
        "Realizar análise do arquivo results.csv\n",
        "\n",
        "O dataset results.csv é um conjunto de dados que inclui resultados de jogos internacionais de futebol. Os jogos são estritamente internacionais masculinos e os dados não incluem Jogos Olímpicos ou jogos em que pelo menos uma das equipes foi a seleção B do país, sub-23 ou uma seleção da liga. O dataset foi retirado do Kaggle.\n",
        "\n",
        "Metadados:\n",
        "\n",
        "date - data da partida\n",
        "home_team - time mandante\n",
        "away_team - time visitante\n",
        "home_score - placar do time mandante\n",
        "away_score - placar do time visitante\n",
        "tournament - torneio\n",
        "city - cidade onde a partida foi realizada\n",
        "country - país onde a partida foi realizada\n",
        "neutral - desconsiderar\n",
        "\n",
        "Importar o arquivo no Spark e responder as perguntas abaixo utilizando python ou SQL.\n",
        "\n",
        "A atividade por ser realizada instalando o Spark na máquina local, utilizando docker ou o ambiente Databricks Community.\n",
        "Para cada questão, informar a resposta e o código utilizado para chegar\n",
        "ao resultado.\n",
        "\n",
        "1 - Quantos registro existem na base?\n",
        "\n",
        "2 - Quantas equipes únicas mandantes existem na base?\n",
        "\n",
        "3 - Quantas vezes as equipes mandantes saíram vitoriosas?\n",
        "\n",
        "4 - Quantas vezes as equipes visitantes saíram vitoriosas?\n",
        "\n",
        "5 - Quantas partidas resultaram em empate?\n",
        "\n",
        "6 - Quantas partidas foram realizadas em cada país?\n",
        "\n",
        "7 - Qual país teve mais partidas?\n",
        "\n",
        "8 - Qual a partida com maior número de gols?\n",
        "\n",
        "9 - Qual a maior goleada?\n",
        "\n",
        "10 - Quantos jogos ocorreram no Brasil?"
      ]
    },
    {
      "cell_type": "markdown",
      "metadata": {
        "id": "N8l8O6UcBnGM"
      },
      "source": [
        "  # Tranformando o arquivo em uma dataset\n",
        "\n",
        "O dataset results.csv é um conjunto de dados que inclui resultados de jogos internacionais de futebol. Os jogos são estritamente internacionais masculinos e os dados não incluem Jogos Olímpicos ou jogos em que pelo menos uma das equipes foi a seleção B do país, sub-23 ou uma seleção da liga. O dataset foi retirado do Kaggle.\n"
      ]
    },
    {
      "cell_type": "code",
      "metadata": {
        "id": "0ZeJ7WQCgM8g",
        "colab": {
          "base_uri": "https://localhost:8080/"
        },
        "outputId": "42be7bd4-2448-42f3-d81d-07a995cc5e0a"
      },
      "source": [
        "#importando os dados do results.csv\n",
        "dataset = spark.read.csv('results.csv',inferSchema=True, header =True)\n",
        "type(dataset)"
      ],
      "execution_count": null,
      "outputs": [
        {
          "output_type": "execute_result",
          "data": {
            "text/plain": [
              "pyspark.sql.dataframe.DataFrame"
            ]
          },
          "metadata": {
            "tags": []
          },
          "execution_count": 46
        }
      ]
    },
    {
      "cell_type": "markdown",
      "metadata": {
        "id": "OC0ke1PlCeHt"
      },
      "source": [
        "# Verificando os metadados\n",
        "\n",
        "Segue abaixo os metadados do dataset."
      ]
    },
    {
      "cell_type": "code",
      "metadata": {
        "colab": {
          "base_uri": "https://localhost:8080/"
        },
        "id": "bCyBqaeEBWGN",
        "outputId": "1fd8ae86-5e87-4d7c-f1b7-716a6edfb9ba"
      },
      "source": [
        "dataset.printSchema()"
      ],
      "execution_count": null,
      "outputs": [
        {
          "output_type": "stream",
          "text": [
            "root\n",
            " |-- date: string (nullable = true)\n",
            " |-- home_team: string (nullable = true)\n",
            " |-- away_team: string (nullable = true)\n",
            " |-- home_score: integer (nullable = true)\n",
            " |-- away_score: integer (nullable = true)\n",
            " |-- tournament: string (nullable = true)\n",
            " |-- city: string (nullable = true)\n",
            " |-- country: string (nullable = true)\n",
            " |-- neutral: boolean (nullable = true)\n",
            "\n"
          ],
          "name": "stdout"
        }
      ]
    },
    {
      "cell_type": "markdown",
      "metadata": {
        "id": "6kl2UptamQbU"
      },
      "source": [
        "Dicionario de dados\n",
        "\n",
        "*   date - data da partida\n",
        "*   home_team - time mandante\n",
        "*   away_team - time visitante\n",
        "*   home_score - placar do time mandante\n",
        "*   away_score - placar do time visitante\n",
        "*   tournament - torneio\n",
        "*   city - cidade onde a partida foi realizada\n",
        "*   country - país onde a partida foi realizada\n",
        "*   neutral - desconsiderar"
      ]
    },
    {
      "cell_type": "code",
      "metadata": {
        "colab": {
          "base_uri": "https://localhost:8080/"
        },
        "id": "rgF_GCgekUAd",
        "outputId": "5a6ac93f-6118-4cb2-cbe3-910686dc679c"
      },
      "source": [
        "dataset.show(10)"
      ],
      "execution_count": null,
      "outputs": [
        {
          "output_type": "stream",
          "text": [
            "+----------+---------+---------+----------+----------+----------+-------+--------+-------+\n",
            "|      date|home_team|away_team|home_score|away_score|tournament|   city| country|neutral|\n",
            "+----------+---------+---------+----------+----------+----------+-------+--------+-------+\n",
            "|1872-11-30| Scotland|  England|         0|         0|  Friendly|Glasgow|Scotland|  false|\n",
            "|1873-03-08|  England| Scotland|         4|         2|  Friendly| London| England|  false|\n",
            "|1874-03-07| Scotland|  England|         2|         1|  Friendly|Glasgow|Scotland|  false|\n",
            "|1875-03-06|  England| Scotland|         2|         2|  Friendly| London| England|  false|\n",
            "|1876-03-04| Scotland|  England|         3|         0|  Friendly|Glasgow|Scotland|  false|\n",
            "|1876-03-25| Scotland|    Wales|         4|         0|  Friendly|Glasgow|Scotland|  false|\n",
            "|1877-03-03|  England| Scotland|         1|         3|  Friendly| London| England|  false|\n",
            "|1877-03-05|    Wales| Scotland|         0|         2|  Friendly|Wrexham|   Wales|  false|\n",
            "|1878-03-02| Scotland|  England|         7|         2|  Friendly|Glasgow|Scotland|  false|\n",
            "|1878-03-23| Scotland|    Wales|         9|         0|  Friendly|Glasgow|Scotland|  false|\n",
            "+----------+---------+---------+----------+----------+----------+-------+--------+-------+\n",
            "only showing top 10 rows\n",
            "\n"
          ],
          "name": "stdout"
        }
      ]
    },
    {
      "cell_type": "markdown",
      "metadata": {
        "id": "A9PWWy-0hsTi"
      },
      "source": [
        "##1 - Quantos registro existem na base?\n",
        "\n",
        "No total temos 40.839 registros no dataset.\n",
        "\n"
      ]
    },
    {
      "cell_type": "code",
      "metadata": {
        "colab": {
          "base_uri": "https://localhost:8080/"
        },
        "id": "07mIe1UahuaU",
        "outputId": "43ce0e3e-b8a2-4865-a13c-a1306beb47e9"
      },
      "source": [
        "dataset.count()"
      ],
      "execution_count": null,
      "outputs": [
        {
          "output_type": "execute_result",
          "data": {
            "text/plain": [
              "40839"
            ]
          },
          "metadata": {
            "tags": []
          },
          "execution_count": 11
        }
      ]
    },
    {
      "cell_type": "markdown",
      "metadata": {
        "id": "MnsCAN2niD5u"
      },
      "source": [
        "##2 - Quantas equipes únicas mandantes existem na base?\n",
        "\n",
        "Existem 309 equipes diferentes nas olimpiadas.\n"
      ]
    },
    {
      "cell_type": "code",
      "metadata": {
        "colab": {
          "base_uri": "https://localhost:8080/"
        },
        "id": "-nu_Sp8iiGDt",
        "outputId": "ceb9220e-3fed-44c9-dfc2-e8d32444fd44"
      },
      "source": [
        "dataset.select('home_team').distinct().orderBy('home_team').count()\n"
      ],
      "execution_count": null,
      "outputs": [
        {
          "output_type": "execute_result",
          "data": {
            "text/plain": [
              "309"
            ]
          },
          "metadata": {
            "tags": []
          },
          "execution_count": 25
        }
      ]
    },
    {
      "cell_type": "markdown",
      "metadata": {
        "id": "gyy9aXDlkbR3"
      },
      "source": [
        "##3 - Quantas vezes as equipes mandantes saíram vitoriosas?"
      ]
    },
    {
      "cell_type": "code",
      "metadata": {
        "colab": {
          "base_uri": "https://localhost:8080/"
        },
        "id": "1qvfT54QnUEJ",
        "outputId": "0fd18b1d-ba4e-4893-9ac9-35489c47d6e1"
      },
      "source": [
        "dataset.filter(dataset.home_score > dataset.away_score).count()"
      ],
      "execution_count": null,
      "outputs": [
        {
          "output_type": "execute_result",
          "data": {
            "text/plain": [
              "19864"
            ]
          },
          "metadata": {
            "tags": []
          },
          "execution_count": 56
        }
      ]
    },
    {
      "cell_type": "markdown",
      "metadata": {
        "id": "cNEIoyuSq9du"
      },
      "source": [
        "##4 - Quantas vezes as equipes visitantes saíram vitoriosas?"
      ]
    },
    {
      "cell_type": "code",
      "metadata": {
        "colab": {
          "base_uri": "https://localhost:8080/"
        },
        "id": "C52al2z3rE5o",
        "outputId": "200eb26e-c1a2-472d-dcee-3a65dad7e611"
      },
      "source": [
        "dataset.filter(dataset.home_score < dataset.away_score).count()"
      ],
      "execution_count": null,
      "outputs": [
        {
          "output_type": "execute_result",
          "data": {
            "text/plain": [
              "11544"
            ]
          },
          "metadata": {
            "tags": []
          },
          "execution_count": 57
        }
      ]
    },
    {
      "cell_type": "markdown",
      "metadata": {
        "id": "TveH61_JrNA4"
      },
      "source": [
        "## 5 - Quantas partidas resultaram em empate?\n"
      ]
    },
    {
      "cell_type": "code",
      "metadata": {
        "colab": {
          "base_uri": "https://localhost:8080/"
        },
        "id": "Nww71PQ1rSa0",
        "outputId": "0f59247a-8d3f-41ee-f9a0-e45fa43e6850"
      },
      "source": [
        "dataset.filter(dataset.home_score == dataset.away_score).count()"
      ],
      "execution_count": null,
      "outputs": [
        {
          "output_type": "execute_result",
          "data": {
            "text/plain": [
              "9431"
            ]
          },
          "metadata": {
            "tags": []
          },
          "execution_count": 58
        }
      ]
    },
    {
      "cell_type": "markdown",
      "metadata": {
        "id": "tkxM33s5ru3-"
      },
      "source": [
        "##6 - Quantas partidas foram realizadas em cada país?"
      ]
    },
    {
      "cell_type": "code",
      "metadata": {
        "colab": {
          "base_uri": "https://localhost:8080/"
        },
        "id": "5uFNnvU8r005",
        "outputId": "2ca04cbf-feeb-4eee-cef8-9abd31ef6a79"
      },
      "source": [
        " dataset \\\n",
        "    .groupBy('country') \\\n",
        "    .agg({'country' : 'count'}) \\\n",
        "    .orderBy('count(country)',ascending = False) \\\n",
        "    .show()"
      ],
      "execution_count": null,
      "outputs": [
        {
          "output_type": "stream",
          "text": [
            "+--------------------+--------------+\n",
            "|             country|count(country)|\n",
            "+--------------------+--------------+\n",
            "|       United States|          1144|\n",
            "|              France|           801|\n",
            "|             England|           687|\n",
            "|            Malaysia|           644|\n",
            "|              Sweden|           637|\n",
            "|             Germany|           581|\n",
            "|              Brazil|           529|\n",
            "|               Spain|           517|\n",
            "|            Thailand|           483|\n",
            "|               Italy|           480|\n",
            "|         Switzerland|           477|\n",
            "|             Austria|           475|\n",
            "|United Arab Emirates|           472|\n",
            "|        South Africa|           470|\n",
            "|               Qatar|           467|\n",
            "|         South Korea|           453|\n",
            "|           Argentina|           449|\n",
            "|             Hungary|           431|\n",
            "|               Chile|           405|\n",
            "|             Belgium|           396|\n",
            "+--------------------+--------------+\n",
            "only showing top 20 rows\n",
            "\n"
          ],
          "name": "stdout"
        }
      ]
    },
    {
      "cell_type": "markdown",
      "metadata": {
        "id": "NJxjR72MsbQ1"
      },
      "source": [
        "##7 - Qual país teve mais partidas?"
      ]
    },
    {
      "cell_type": "code",
      "metadata": {
        "colab": {
          "base_uri": "https://localhost:8080/"
        },
        "id": "1YTtkJmisc84",
        "outputId": "f5284e3e-ad78-4786-a15f-07a52d41f617"
      },
      "source": [
        "dataset \\\n",
        "    .groupBy('country') \\\n",
        "    .agg({'country' : 'count'}) \\\n",
        "    .orderBy('count(country)',ascending = False) \\\n",
        "    .show(1)"
      ],
      "execution_count": null,
      "outputs": [
        {
          "output_type": "stream",
          "text": [
            "+-------------+--------------+\n",
            "|      country|count(country)|\n",
            "+-------------+--------------+\n",
            "|United States|          1144|\n",
            "+-------------+--------------+\n",
            "only showing top 1 row\n",
            "\n"
          ],
          "name": "stdout"
        }
      ]
    },
    {
      "cell_type": "markdown",
      "metadata": {
        "id": "ZF7bekvAtyl4"
      },
      "source": [
        "##8 - Qual a partida com maior número de gols?"
      ]
    },
    {
      "cell_type": "code",
      "metadata": {
        "colab": {
          "base_uri": "https://localhost:8080/"
        },
        "id": "kn2ElsKAkWIi",
        "outputId": "450ca88c-56c1-473a-ffdc-293a9907c03f"
      },
      "source": [
        "\n",
        "#df = dataset.withColumn('total', sum(dataset[total] for total in ('home_score','away_score')))\n",
        "df.agg({'total' : 'max'}).show()\n",
        "\n",
        "df.registerTempTable('table')\n",
        "\n",
        "#df.filter(df.total.max).show()\n",
        "\n"
      ],
      "execution_count": null,
      "outputs": [
        {
          "output_type": "stream",
          "text": [
            "+----------+\n",
            "|max(total)|\n",
            "+----------+\n",
            "|        31|\n",
            "+----------+\n",
            "\n"
          ],
          "name": "stdout"
        }
      ]
    },
    {
      "cell_type": "markdown",
      "metadata": {
        "id": "2P9k1PdrhItq"
      },
      "source": [
        "##9 - Qual a maior goleada?\n"
      ]
    },
    {
      "cell_type": "code",
      "metadata": {
        "colab": {
          "base_uri": "https://localhost:8080/"
        },
        "id": "sIUmM1hkhad0",
        "outputId": "0d612716-9461-4939-e045-248189c4f47e"
      },
      "source": [
        "dataset.agg({'home_score' : 'max'}).show()"
      ],
      "execution_count": null,
      "outputs": [
        {
          "output_type": "stream",
          "text": [
            "+---------------+\n",
            "|max(home_score)|\n",
            "+---------------+\n",
            "|             31|\n",
            "+---------------+\n",
            "\n"
          ],
          "name": "stdout"
        }
      ]
    },
    {
      "cell_type": "markdown",
      "metadata": {
        "id": "AlkWs6zQhPXQ"
      },
      "source": [
        "##10 - Quantos jogos ocorreram no Brasil?"
      ]
    },
    {
      "cell_type": "code",
      "metadata": {
        "colab": {
          "base_uri": "https://localhost:8080/"
        },
        "id": "Tat35gB_hZgH",
        "outputId": "2dfe9893-f8dd-42ec-ef00-dcf6322a2169"
      },
      "source": [
        "dataset.filter(dataset.country.like('Brazil')).count()"
      ],
      "execution_count": null,
      "outputs": [
        {
          "output_type": "execute_result",
          "data": {
            "text/plain": [
              "529"
            ]
          },
          "metadata": {
            "tags": []
          },
          "execution_count": 93
        }
      ]
    }
  ]
}